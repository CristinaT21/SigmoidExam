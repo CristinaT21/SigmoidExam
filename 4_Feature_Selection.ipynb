{
  "nbformat": 4,
  "nbformat_minor": 0,
  "metadata": {
    "colab": {
      "provenance": []
    },
    "kernelspec": {
      "name": "python3",
      "display_name": "Python 3"
    },
    "language_info": {
      "name": "python"
    }
  },
  "cells": [
    {
      "cell_type": "markdown",
      "source": [
        "# Feature Selection"
      ],
      "metadata": {
        "id": "Ucl0eLFl46QW"
      }
    },
    {
      "cell_type": "markdown",
      "source": [
        "## importing libraries"
      ],
      "metadata": {
        "id": "mpNoHhb55Ach"
      }
    },
    {
      "cell_type": "code",
      "source": [
        "# pip install kydavra"
      ],
      "metadata": {
        "id": "Thp8rIAYPx5P"
      },
      "execution_count": 2,
      "outputs": []
    },
    {
      "cell_type": "code",
      "source": [
        "import numpy as np\n",
        "import pandas as pd\n",
        "import matplotlib.pyplot as plt\n",
        "import seaborn as sns\n",
        "from kydavra import LassoSelector\n",
        "from kydavra import PointBiserialCorrSelector\n",
        "from kydavra import PearsonCorrelationSelector"
      ],
      "metadata": {
        "id": "ZUey5_v35NW_"
      },
      "execution_count": 3,
      "outputs": []
    },
    {
      "cell_type": "code",
      "source": [
        "from google.colab import drive\n",
        "drive.mount('/content/drive')"
      ],
      "metadata": {
        "id": "SMAv5Sr75KwU",
        "colab": {
          "base_uri": "https://localhost:8080/"
        },
        "outputId": "f4c9390a-a98c-49e0-a328-fecd572515fd"
      },
      "execution_count": 4,
      "outputs": [
        {
          "output_type": "stream",
          "name": "stdout",
          "text": [
            "Mounted at /content/drive\n"
          ]
        }
      ]
    },
    {
      "cell_type": "code",
      "execution_count": 5,
      "metadata": {
        "id": "7HF2OmoY3U9f"
      },
      "outputs": [],
      "source": [
        "import os\n",
        "os.chdir(\"/content/drive/MyDrive/Colab Notebooks\")"
      ]
    },
    {
      "cell_type": "markdown",
      "source": [
        "## importing dataset"
      ],
      "metadata": {
        "id": "C90cF88S5ZAc"
      }
    },
    {
      "cell_type": "code",
      "source": [
        "df = pd.read_csv('data3.csv')"
      ],
      "metadata": {
        "id": "RF23633k5buv"
      },
      "execution_count": 6,
      "outputs": []
    },
    {
      "cell_type": "code",
      "source": [
        "df.shape"
      ],
      "metadata": {
        "id": "COlNz7ED6Npp",
        "colab": {
          "base_uri": "https://localhost:8080/"
        },
        "outputId": "79128d6b-1219-4a2b-bd0a-1f8d01dfac25"
      },
      "execution_count": 7,
      "outputs": [
        {
          "output_type": "execute_result",
          "data": {
            "text/plain": [
              "(10022903, 12)"
            ]
          },
          "metadata": {},
          "execution_count": 7
        }
      ]
    },
    {
      "cell_type": "code",
      "source": [
        "df"
      ],
      "metadata": {
        "colab": {
          "base_uri": "https://localhost:8080/",
          "height": 423
        },
        "id": "dA0u9eSWQ469",
        "outputId": "c2345ed6-3ace-496b-e5d6-59f9be8824e5"
      },
      "execution_count": 8,
      "outputs": [
        {
          "output_type": "execute_result",
          "data": {
            "text/plain": [
              "          Unnamed: 0  Store Number  Zip Code  County Number   Category  \\\n",
              "0                  0     -1.596053  2.022190       0.108315  12.022508   \n",
              "1                  1     -1.576230  1.996349       0.598453  12.022018   \n",
              "2                  2      0.098772  2.022062       0.108315  12.023160   \n",
              "3                  3     -1.155038 -0.415376      -0.017473   2.276590   \n",
              "4                  4      0.525203  2.014722       0.935604   8.781287   \n",
              "...              ...           ...       ...            ...        ...   \n",
              "10022898    10022898      0.269645 -0.411784       0.625403   0.764543   \n",
              "10022899    10022899      0.269645 -0.411784       0.625403   0.764543   \n",
              "10022900    10022900      0.269645 -0.411784       0.625403   0.764543   \n",
              "10022901    10022901      0.269645 -0.411784       0.625403   0.762496   \n",
              "10022902    10022902      0.269645 -0.411784       0.625403   0.760449   \n",
              "\n",
              "          Vendor Number  Item Number      Pack  Bottle Volume  Sale (Dollars)  \\\n",
              "0              0.151527    -2.604004 -1.066954      -0.280075        0.561837   \n",
              "1              0.151527    -2.604004 -1.066954      -0.280075        1.420251   \n",
              "2             -0.762788    -2.624480  1.255013      -2.251074       -0.798948   \n",
              "3             -1.431361    -2.629901 -1.890562       1.600853        0.543814   \n",
              "4             -0.762788    -2.624480  1.255013      -2.251074       -0.798948   \n",
              "...                 ...          ...       ...            ...             ...   \n",
              "10022898       1.125298     0.848505  0.097805      -0.280075       -0.958869   \n",
              "10022899       0.591407     1.147973  0.097805       0.271520       -0.975617   \n",
              "10022900       0.182718     0.833985  0.097805      -0.280075       -1.003458   \n",
              "10022901      -1.431361     0.813749  0.097805       0.271520       -0.934317   \n",
              "10022902       1.125298     1.108279  0.097805      -0.280075       -1.076912   \n",
              "\n",
              "          Profit Margin  Volume Sold (Liters)  \n",
              "0              0.581077                  4.50  \n",
              "1              1.436338                  9.00  \n",
              "2             -0.774840                  0.30  \n",
              "3              0.563319                  5.25  \n",
              "4             -0.774840                  0.30  \n",
              "...                 ...                   ...  \n",
              "10022898      -0.933906                  0.75  \n",
              "10022899      -0.560307                  3.00  \n",
              "10022900      -0.978561                  0.75  \n",
              "10022901      -0.077093                  6.00  \n",
              "10022902      -1.051429                  0.75  \n",
              "\n",
              "[10022903 rows x 12 columns]"
            ],
            "text/html": [
              "\n",
              "  <div id=\"df-3a10618f-e1a4-47cf-8f45-bbc6a730c783\">\n",
              "    <div class=\"colab-df-container\">\n",
              "      <div>\n",
              "<style scoped>\n",
              "    .dataframe tbody tr th:only-of-type {\n",
              "        vertical-align: middle;\n",
              "    }\n",
              "\n",
              "    .dataframe tbody tr th {\n",
              "        vertical-align: top;\n",
              "    }\n",
              "\n",
              "    .dataframe thead th {\n",
              "        text-align: right;\n",
              "    }\n",
              "</style>\n",
              "<table border=\"1\" class=\"dataframe\">\n",
              "  <thead>\n",
              "    <tr style=\"text-align: right;\">\n",
              "      <th></th>\n",
              "      <th>Unnamed: 0</th>\n",
              "      <th>Store Number</th>\n",
              "      <th>Zip Code</th>\n",
              "      <th>County Number</th>\n",
              "      <th>Category</th>\n",
              "      <th>Vendor Number</th>\n",
              "      <th>Item Number</th>\n",
              "      <th>Pack</th>\n",
              "      <th>Bottle Volume</th>\n",
              "      <th>Sale (Dollars)</th>\n",
              "      <th>Profit Margin</th>\n",
              "      <th>Volume Sold (Liters)</th>\n",
              "    </tr>\n",
              "  </thead>\n",
              "  <tbody>\n",
              "    <tr>\n",
              "      <th>0</th>\n",
              "      <td>0</td>\n",
              "      <td>-1.596053</td>\n",
              "      <td>2.022190</td>\n",
              "      <td>0.108315</td>\n",
              "      <td>12.022508</td>\n",
              "      <td>0.151527</td>\n",
              "      <td>-2.604004</td>\n",
              "      <td>-1.066954</td>\n",
              "      <td>-0.280075</td>\n",
              "      <td>0.561837</td>\n",
              "      <td>0.581077</td>\n",
              "      <td>4.50</td>\n",
              "    </tr>\n",
              "    <tr>\n",
              "      <th>1</th>\n",
              "      <td>1</td>\n",
              "      <td>-1.576230</td>\n",
              "      <td>1.996349</td>\n",
              "      <td>0.598453</td>\n",
              "      <td>12.022018</td>\n",
              "      <td>0.151527</td>\n",
              "      <td>-2.604004</td>\n",
              "      <td>-1.066954</td>\n",
              "      <td>-0.280075</td>\n",
              "      <td>1.420251</td>\n",
              "      <td>1.436338</td>\n",
              "      <td>9.00</td>\n",
              "    </tr>\n",
              "    <tr>\n",
              "      <th>2</th>\n",
              "      <td>2</td>\n",
              "      <td>0.098772</td>\n",
              "      <td>2.022062</td>\n",
              "      <td>0.108315</td>\n",
              "      <td>12.023160</td>\n",
              "      <td>-0.762788</td>\n",
              "      <td>-2.624480</td>\n",
              "      <td>1.255013</td>\n",
              "      <td>-2.251074</td>\n",
              "      <td>-0.798948</td>\n",
              "      <td>-0.774840</td>\n",
              "      <td>0.30</td>\n",
              "    </tr>\n",
              "    <tr>\n",
              "      <th>3</th>\n",
              "      <td>3</td>\n",
              "      <td>-1.155038</td>\n",
              "      <td>-0.415376</td>\n",
              "      <td>-0.017473</td>\n",
              "      <td>2.276590</td>\n",
              "      <td>-1.431361</td>\n",
              "      <td>-2.629901</td>\n",
              "      <td>-1.890562</td>\n",
              "      <td>1.600853</td>\n",
              "      <td>0.543814</td>\n",
              "      <td>0.563319</td>\n",
              "      <td>5.25</td>\n",
              "    </tr>\n",
              "    <tr>\n",
              "      <th>4</th>\n",
              "      <td>4</td>\n",
              "      <td>0.525203</td>\n",
              "      <td>2.014722</td>\n",
              "      <td>0.935604</td>\n",
              "      <td>8.781287</td>\n",
              "      <td>-0.762788</td>\n",
              "      <td>-2.624480</td>\n",
              "      <td>1.255013</td>\n",
              "      <td>-2.251074</td>\n",
              "      <td>-0.798948</td>\n",
              "      <td>-0.774840</td>\n",
              "      <td>0.30</td>\n",
              "    </tr>\n",
              "    <tr>\n",
              "      <th>...</th>\n",
              "      <td>...</td>\n",
              "      <td>...</td>\n",
              "      <td>...</td>\n",
              "      <td>...</td>\n",
              "      <td>...</td>\n",
              "      <td>...</td>\n",
              "      <td>...</td>\n",
              "      <td>...</td>\n",
              "      <td>...</td>\n",
              "      <td>...</td>\n",
              "      <td>...</td>\n",
              "      <td>...</td>\n",
              "    </tr>\n",
              "    <tr>\n",
              "      <th>10022898</th>\n",
              "      <td>10022898</td>\n",
              "      <td>0.269645</td>\n",
              "      <td>-0.411784</td>\n",
              "      <td>0.625403</td>\n",
              "      <td>0.764543</td>\n",
              "      <td>1.125298</td>\n",
              "      <td>0.848505</td>\n",
              "      <td>0.097805</td>\n",
              "      <td>-0.280075</td>\n",
              "      <td>-0.958869</td>\n",
              "      <td>-0.933906</td>\n",
              "      <td>0.75</td>\n",
              "    </tr>\n",
              "    <tr>\n",
              "      <th>10022899</th>\n",
              "      <td>10022899</td>\n",
              "      <td>0.269645</td>\n",
              "      <td>-0.411784</td>\n",
              "      <td>0.625403</td>\n",
              "      <td>0.764543</td>\n",
              "      <td>0.591407</td>\n",
              "      <td>1.147973</td>\n",
              "      <td>0.097805</td>\n",
              "      <td>0.271520</td>\n",
              "      <td>-0.975617</td>\n",
              "      <td>-0.560307</td>\n",
              "      <td>3.00</td>\n",
              "    </tr>\n",
              "    <tr>\n",
              "      <th>10022900</th>\n",
              "      <td>10022900</td>\n",
              "      <td>0.269645</td>\n",
              "      <td>-0.411784</td>\n",
              "      <td>0.625403</td>\n",
              "      <td>0.764543</td>\n",
              "      <td>0.182718</td>\n",
              "      <td>0.833985</td>\n",
              "      <td>0.097805</td>\n",
              "      <td>-0.280075</td>\n",
              "      <td>-1.003458</td>\n",
              "      <td>-0.978561</td>\n",
              "      <td>0.75</td>\n",
              "    </tr>\n",
              "    <tr>\n",
              "      <th>10022901</th>\n",
              "      <td>10022901</td>\n",
              "      <td>0.269645</td>\n",
              "      <td>-0.411784</td>\n",
              "      <td>0.625403</td>\n",
              "      <td>0.762496</td>\n",
              "      <td>-1.431361</td>\n",
              "      <td>0.813749</td>\n",
              "      <td>0.097805</td>\n",
              "      <td>0.271520</td>\n",
              "      <td>-0.934317</td>\n",
              "      <td>-0.077093</td>\n",
              "      <td>6.00</td>\n",
              "    </tr>\n",
              "    <tr>\n",
              "      <th>10022902</th>\n",
              "      <td>10022902</td>\n",
              "      <td>0.269645</td>\n",
              "      <td>-0.411784</td>\n",
              "      <td>0.625403</td>\n",
              "      <td>0.760449</td>\n",
              "      <td>1.125298</td>\n",
              "      <td>1.108279</td>\n",
              "      <td>0.097805</td>\n",
              "      <td>-0.280075</td>\n",
              "      <td>-1.076912</td>\n",
              "      <td>-1.051429</td>\n",
              "      <td>0.75</td>\n",
              "    </tr>\n",
              "  </tbody>\n",
              "</table>\n",
              "<p>10022903 rows × 12 columns</p>\n",
              "</div>\n",
              "      <button class=\"colab-df-convert\" onclick=\"convertToInteractive('df-3a10618f-e1a4-47cf-8f45-bbc6a730c783')\"\n",
              "              title=\"Convert this dataframe to an interactive table.\"\n",
              "              style=\"display:none;\">\n",
              "        \n",
              "  <svg xmlns=\"http://www.w3.org/2000/svg\" height=\"24px\"viewBox=\"0 0 24 24\"\n",
              "       width=\"24px\">\n",
              "    <path d=\"M0 0h24v24H0V0z\" fill=\"none\"/>\n",
              "    <path d=\"M18.56 5.44l.94 2.06.94-2.06 2.06-.94-2.06-.94-.94-2.06-.94 2.06-2.06.94zm-11 1L8.5 8.5l.94-2.06 2.06-.94-2.06-.94L8.5 2.5l-.94 2.06-2.06.94zm10 10l.94 2.06.94-2.06 2.06-.94-2.06-.94-.94-2.06-.94 2.06-2.06.94z\"/><path d=\"M17.41 7.96l-1.37-1.37c-.4-.4-.92-.59-1.43-.59-.52 0-1.04.2-1.43.59L10.3 9.45l-7.72 7.72c-.78.78-.78 2.05 0 2.83L4 21.41c.39.39.9.59 1.41.59.51 0 1.02-.2 1.41-.59l7.78-7.78 2.81-2.81c.8-.78.8-2.07 0-2.86zM5.41 20L4 18.59l7.72-7.72 1.47 1.35L5.41 20z\"/>\n",
              "  </svg>\n",
              "      </button>\n",
              "      \n",
              "  <style>\n",
              "    .colab-df-container {\n",
              "      display:flex;\n",
              "      flex-wrap:wrap;\n",
              "      gap: 12px;\n",
              "    }\n",
              "\n",
              "    .colab-df-convert {\n",
              "      background-color: #E8F0FE;\n",
              "      border: none;\n",
              "      border-radius: 50%;\n",
              "      cursor: pointer;\n",
              "      display: none;\n",
              "      fill: #1967D2;\n",
              "      height: 32px;\n",
              "      padding: 0 0 0 0;\n",
              "      width: 32px;\n",
              "    }\n",
              "\n",
              "    .colab-df-convert:hover {\n",
              "      background-color: #E2EBFA;\n",
              "      box-shadow: 0px 1px 2px rgba(60, 64, 67, 0.3), 0px 1px 3px 1px rgba(60, 64, 67, 0.15);\n",
              "      fill: #174EA6;\n",
              "    }\n",
              "\n",
              "    [theme=dark] .colab-df-convert {\n",
              "      background-color: #3B4455;\n",
              "      fill: #D2E3FC;\n",
              "    }\n",
              "\n",
              "    [theme=dark] .colab-df-convert:hover {\n",
              "      background-color: #434B5C;\n",
              "      box-shadow: 0px 1px 3px 1px rgba(0, 0, 0, 0.15);\n",
              "      filter: drop-shadow(0px 1px 2px rgba(0, 0, 0, 0.3));\n",
              "      fill: #FFFFFF;\n",
              "    }\n",
              "  </style>\n",
              "\n",
              "      <script>\n",
              "        const buttonEl =\n",
              "          document.querySelector('#df-3a10618f-e1a4-47cf-8f45-bbc6a730c783 button.colab-df-convert');\n",
              "        buttonEl.style.display =\n",
              "          google.colab.kernel.accessAllowed ? 'block' : 'none';\n",
              "\n",
              "        async function convertToInteractive(key) {\n",
              "          const element = document.querySelector('#df-3a10618f-e1a4-47cf-8f45-bbc6a730c783');\n",
              "          const dataTable =\n",
              "            await google.colab.kernel.invokeFunction('convertToInteractive',\n",
              "                                                     [key], {});\n",
              "          if (!dataTable) return;\n",
              "\n",
              "          const docLinkHtml = 'Like what you see? Visit the ' +\n",
              "            '<a target=\"_blank\" href=https://colab.research.google.com/notebooks/data_table.ipynb>data table notebook</a>'\n",
              "            + ' to learn more about interactive tables.';\n",
              "          element.innerHTML = '';\n",
              "          dataTable['output_type'] = 'display_data';\n",
              "          await google.colab.output.renderOutput(dataTable, element);\n",
              "          const docLink = document.createElement('div');\n",
              "          docLink.innerHTML = docLinkHtml;\n",
              "          element.appendChild(docLink);\n",
              "        }\n",
              "      </script>\n",
              "    </div>\n",
              "  </div>\n",
              "  "
            ]
          },
          "metadata": {},
          "execution_count": 8
        }
      ]
    },
    {
      "cell_type": "code",
      "source": [
        "df = df.drop(['Unnamed: 0'], axis=1)"
      ],
      "metadata": {
        "id": "UA_jE2XYTmVi"
      },
      "execution_count": 9,
      "outputs": []
    },
    {
      "cell_type": "code",
      "source": [
        "df = df.reset_index(drop=True, inplace=False)"
      ],
      "metadata": {
        "id": "Mj-kdqgISizT"
      },
      "execution_count": 10,
      "outputs": []
    },
    {
      "cell_type": "code",
      "source": [
        "df"
      ],
      "metadata": {
        "colab": {
          "base_uri": "https://localhost:8080/",
          "height": 423
        },
        "id": "luIxmmIGSUMo",
        "outputId": "897395e4-0275-4442-ddd1-318790c089b9"
      },
      "execution_count": 11,
      "outputs": [
        {
          "output_type": "execute_result",
          "data": {
            "text/plain": [
              "          Store Number  Zip Code  County Number   Category  Vendor Number  \\\n",
              "0            -1.596053  2.022190       0.108315  12.022508       0.151527   \n",
              "1            -1.576230  1.996349       0.598453  12.022018       0.151527   \n",
              "2             0.098772  2.022062       0.108315  12.023160      -0.762788   \n",
              "3            -1.155038 -0.415376      -0.017473   2.276590      -1.431361   \n",
              "4             0.525203  2.014722       0.935604   8.781287      -0.762788   \n",
              "...                ...       ...            ...        ...            ...   \n",
              "10022898      0.269645 -0.411784       0.625403   0.764543       1.125298   \n",
              "10022899      0.269645 -0.411784       0.625403   0.764543       0.591407   \n",
              "10022900      0.269645 -0.411784       0.625403   0.764543       0.182718   \n",
              "10022901      0.269645 -0.411784       0.625403   0.762496      -1.431361   \n",
              "10022902      0.269645 -0.411784       0.625403   0.760449       1.125298   \n",
              "\n",
              "          Item Number      Pack  Bottle Volume  Sale (Dollars)  Profit Margin  \\\n",
              "0           -2.604004 -1.066954      -0.280075        0.561837       0.581077   \n",
              "1           -2.604004 -1.066954      -0.280075        1.420251       1.436338   \n",
              "2           -2.624480  1.255013      -2.251074       -0.798948      -0.774840   \n",
              "3           -2.629901 -1.890562       1.600853        0.543814       0.563319   \n",
              "4           -2.624480  1.255013      -2.251074       -0.798948      -0.774840   \n",
              "...               ...       ...            ...             ...            ...   \n",
              "10022898     0.848505  0.097805      -0.280075       -0.958869      -0.933906   \n",
              "10022899     1.147973  0.097805       0.271520       -0.975617      -0.560307   \n",
              "10022900     0.833985  0.097805      -0.280075       -1.003458      -0.978561   \n",
              "10022901     0.813749  0.097805       0.271520       -0.934317      -0.077093   \n",
              "10022902     1.108279  0.097805      -0.280075       -1.076912      -1.051429   \n",
              "\n",
              "          Volume Sold (Liters)  \n",
              "0                         4.50  \n",
              "1                         9.00  \n",
              "2                         0.30  \n",
              "3                         5.25  \n",
              "4                         0.30  \n",
              "...                        ...  \n",
              "10022898                  0.75  \n",
              "10022899                  3.00  \n",
              "10022900                  0.75  \n",
              "10022901                  6.00  \n",
              "10022902                  0.75  \n",
              "\n",
              "[10022903 rows x 11 columns]"
            ],
            "text/html": [
              "\n",
              "  <div id=\"df-4aa39c14-8abb-4f0d-af6e-8cc5dcece20b\">\n",
              "    <div class=\"colab-df-container\">\n",
              "      <div>\n",
              "<style scoped>\n",
              "    .dataframe tbody tr th:only-of-type {\n",
              "        vertical-align: middle;\n",
              "    }\n",
              "\n",
              "    .dataframe tbody tr th {\n",
              "        vertical-align: top;\n",
              "    }\n",
              "\n",
              "    .dataframe thead th {\n",
              "        text-align: right;\n",
              "    }\n",
              "</style>\n",
              "<table border=\"1\" class=\"dataframe\">\n",
              "  <thead>\n",
              "    <tr style=\"text-align: right;\">\n",
              "      <th></th>\n",
              "      <th>Store Number</th>\n",
              "      <th>Zip Code</th>\n",
              "      <th>County Number</th>\n",
              "      <th>Category</th>\n",
              "      <th>Vendor Number</th>\n",
              "      <th>Item Number</th>\n",
              "      <th>Pack</th>\n",
              "      <th>Bottle Volume</th>\n",
              "      <th>Sale (Dollars)</th>\n",
              "      <th>Profit Margin</th>\n",
              "      <th>Volume Sold (Liters)</th>\n",
              "    </tr>\n",
              "  </thead>\n",
              "  <tbody>\n",
              "    <tr>\n",
              "      <th>0</th>\n",
              "      <td>-1.596053</td>\n",
              "      <td>2.022190</td>\n",
              "      <td>0.108315</td>\n",
              "      <td>12.022508</td>\n",
              "      <td>0.151527</td>\n",
              "      <td>-2.604004</td>\n",
              "      <td>-1.066954</td>\n",
              "      <td>-0.280075</td>\n",
              "      <td>0.561837</td>\n",
              "      <td>0.581077</td>\n",
              "      <td>4.50</td>\n",
              "    </tr>\n",
              "    <tr>\n",
              "      <th>1</th>\n",
              "      <td>-1.576230</td>\n",
              "      <td>1.996349</td>\n",
              "      <td>0.598453</td>\n",
              "      <td>12.022018</td>\n",
              "      <td>0.151527</td>\n",
              "      <td>-2.604004</td>\n",
              "      <td>-1.066954</td>\n",
              "      <td>-0.280075</td>\n",
              "      <td>1.420251</td>\n",
              "      <td>1.436338</td>\n",
              "      <td>9.00</td>\n",
              "    </tr>\n",
              "    <tr>\n",
              "      <th>2</th>\n",
              "      <td>0.098772</td>\n",
              "      <td>2.022062</td>\n",
              "      <td>0.108315</td>\n",
              "      <td>12.023160</td>\n",
              "      <td>-0.762788</td>\n",
              "      <td>-2.624480</td>\n",
              "      <td>1.255013</td>\n",
              "      <td>-2.251074</td>\n",
              "      <td>-0.798948</td>\n",
              "      <td>-0.774840</td>\n",
              "      <td>0.30</td>\n",
              "    </tr>\n",
              "    <tr>\n",
              "      <th>3</th>\n",
              "      <td>-1.155038</td>\n",
              "      <td>-0.415376</td>\n",
              "      <td>-0.017473</td>\n",
              "      <td>2.276590</td>\n",
              "      <td>-1.431361</td>\n",
              "      <td>-2.629901</td>\n",
              "      <td>-1.890562</td>\n",
              "      <td>1.600853</td>\n",
              "      <td>0.543814</td>\n",
              "      <td>0.563319</td>\n",
              "      <td>5.25</td>\n",
              "    </tr>\n",
              "    <tr>\n",
              "      <th>4</th>\n",
              "      <td>0.525203</td>\n",
              "      <td>2.014722</td>\n",
              "      <td>0.935604</td>\n",
              "      <td>8.781287</td>\n",
              "      <td>-0.762788</td>\n",
              "      <td>-2.624480</td>\n",
              "      <td>1.255013</td>\n",
              "      <td>-2.251074</td>\n",
              "      <td>-0.798948</td>\n",
              "      <td>-0.774840</td>\n",
              "      <td>0.30</td>\n",
              "    </tr>\n",
              "    <tr>\n",
              "      <th>...</th>\n",
              "      <td>...</td>\n",
              "      <td>...</td>\n",
              "      <td>...</td>\n",
              "      <td>...</td>\n",
              "      <td>...</td>\n",
              "      <td>...</td>\n",
              "      <td>...</td>\n",
              "      <td>...</td>\n",
              "      <td>...</td>\n",
              "      <td>...</td>\n",
              "      <td>...</td>\n",
              "    </tr>\n",
              "    <tr>\n",
              "      <th>10022898</th>\n",
              "      <td>0.269645</td>\n",
              "      <td>-0.411784</td>\n",
              "      <td>0.625403</td>\n",
              "      <td>0.764543</td>\n",
              "      <td>1.125298</td>\n",
              "      <td>0.848505</td>\n",
              "      <td>0.097805</td>\n",
              "      <td>-0.280075</td>\n",
              "      <td>-0.958869</td>\n",
              "      <td>-0.933906</td>\n",
              "      <td>0.75</td>\n",
              "    </tr>\n",
              "    <tr>\n",
              "      <th>10022899</th>\n",
              "      <td>0.269645</td>\n",
              "      <td>-0.411784</td>\n",
              "      <td>0.625403</td>\n",
              "      <td>0.764543</td>\n",
              "      <td>0.591407</td>\n",
              "      <td>1.147973</td>\n",
              "      <td>0.097805</td>\n",
              "      <td>0.271520</td>\n",
              "      <td>-0.975617</td>\n",
              "      <td>-0.560307</td>\n",
              "      <td>3.00</td>\n",
              "    </tr>\n",
              "    <tr>\n",
              "      <th>10022900</th>\n",
              "      <td>0.269645</td>\n",
              "      <td>-0.411784</td>\n",
              "      <td>0.625403</td>\n",
              "      <td>0.764543</td>\n",
              "      <td>0.182718</td>\n",
              "      <td>0.833985</td>\n",
              "      <td>0.097805</td>\n",
              "      <td>-0.280075</td>\n",
              "      <td>-1.003458</td>\n",
              "      <td>-0.978561</td>\n",
              "      <td>0.75</td>\n",
              "    </tr>\n",
              "    <tr>\n",
              "      <th>10022901</th>\n",
              "      <td>0.269645</td>\n",
              "      <td>-0.411784</td>\n",
              "      <td>0.625403</td>\n",
              "      <td>0.762496</td>\n",
              "      <td>-1.431361</td>\n",
              "      <td>0.813749</td>\n",
              "      <td>0.097805</td>\n",
              "      <td>0.271520</td>\n",
              "      <td>-0.934317</td>\n",
              "      <td>-0.077093</td>\n",
              "      <td>6.00</td>\n",
              "    </tr>\n",
              "    <tr>\n",
              "      <th>10022902</th>\n",
              "      <td>0.269645</td>\n",
              "      <td>-0.411784</td>\n",
              "      <td>0.625403</td>\n",
              "      <td>0.760449</td>\n",
              "      <td>1.125298</td>\n",
              "      <td>1.108279</td>\n",
              "      <td>0.097805</td>\n",
              "      <td>-0.280075</td>\n",
              "      <td>-1.076912</td>\n",
              "      <td>-1.051429</td>\n",
              "      <td>0.75</td>\n",
              "    </tr>\n",
              "  </tbody>\n",
              "</table>\n",
              "<p>10022903 rows × 11 columns</p>\n",
              "</div>\n",
              "      <button class=\"colab-df-convert\" onclick=\"convertToInteractive('df-4aa39c14-8abb-4f0d-af6e-8cc5dcece20b')\"\n",
              "              title=\"Convert this dataframe to an interactive table.\"\n",
              "              style=\"display:none;\">\n",
              "        \n",
              "  <svg xmlns=\"http://www.w3.org/2000/svg\" height=\"24px\"viewBox=\"0 0 24 24\"\n",
              "       width=\"24px\">\n",
              "    <path d=\"M0 0h24v24H0V0z\" fill=\"none\"/>\n",
              "    <path d=\"M18.56 5.44l.94 2.06.94-2.06 2.06-.94-2.06-.94-.94-2.06-.94 2.06-2.06.94zm-11 1L8.5 8.5l.94-2.06 2.06-.94-2.06-.94L8.5 2.5l-.94 2.06-2.06.94zm10 10l.94 2.06.94-2.06 2.06-.94-2.06-.94-.94-2.06-.94 2.06-2.06.94z\"/><path d=\"M17.41 7.96l-1.37-1.37c-.4-.4-.92-.59-1.43-.59-.52 0-1.04.2-1.43.59L10.3 9.45l-7.72 7.72c-.78.78-.78 2.05 0 2.83L4 21.41c.39.39.9.59 1.41.59.51 0 1.02-.2 1.41-.59l7.78-7.78 2.81-2.81c.8-.78.8-2.07 0-2.86zM5.41 20L4 18.59l7.72-7.72 1.47 1.35L5.41 20z\"/>\n",
              "  </svg>\n",
              "      </button>\n",
              "      \n",
              "  <style>\n",
              "    .colab-df-container {\n",
              "      display:flex;\n",
              "      flex-wrap:wrap;\n",
              "      gap: 12px;\n",
              "    }\n",
              "\n",
              "    .colab-df-convert {\n",
              "      background-color: #E8F0FE;\n",
              "      border: none;\n",
              "      border-radius: 50%;\n",
              "      cursor: pointer;\n",
              "      display: none;\n",
              "      fill: #1967D2;\n",
              "      height: 32px;\n",
              "      padding: 0 0 0 0;\n",
              "      width: 32px;\n",
              "    }\n",
              "\n",
              "    .colab-df-convert:hover {\n",
              "      background-color: #E2EBFA;\n",
              "      box-shadow: 0px 1px 2px rgba(60, 64, 67, 0.3), 0px 1px 3px 1px rgba(60, 64, 67, 0.15);\n",
              "      fill: #174EA6;\n",
              "    }\n",
              "\n",
              "    [theme=dark] .colab-df-convert {\n",
              "      background-color: #3B4455;\n",
              "      fill: #D2E3FC;\n",
              "    }\n",
              "\n",
              "    [theme=dark] .colab-df-convert:hover {\n",
              "      background-color: #434B5C;\n",
              "      box-shadow: 0px 1px 3px 1px rgba(0, 0, 0, 0.15);\n",
              "      filter: drop-shadow(0px 1px 2px rgba(0, 0, 0, 0.3));\n",
              "      fill: #FFFFFF;\n",
              "    }\n",
              "  </style>\n",
              "\n",
              "      <script>\n",
              "        const buttonEl =\n",
              "          document.querySelector('#df-4aa39c14-8abb-4f0d-af6e-8cc5dcece20b button.colab-df-convert');\n",
              "        buttonEl.style.display =\n",
              "          google.colab.kernel.accessAllowed ? 'block' : 'none';\n",
              "\n",
              "        async function convertToInteractive(key) {\n",
              "          const element = document.querySelector('#df-4aa39c14-8abb-4f0d-af6e-8cc5dcece20b');\n",
              "          const dataTable =\n",
              "            await google.colab.kernel.invokeFunction('convertToInteractive',\n",
              "                                                     [key], {});\n",
              "          if (!dataTable) return;\n",
              "\n",
              "          const docLinkHtml = 'Like what you see? Visit the ' +\n",
              "            '<a target=\"_blank\" href=https://colab.research.google.com/notebooks/data_table.ipynb>data table notebook</a>'\n",
              "            + ' to learn more about interactive tables.';\n",
              "          element.innerHTML = '';\n",
              "          dataTable['output_type'] = 'display_data';\n",
              "          await google.colab.output.renderOutput(dataTable, element);\n",
              "          const docLink = document.createElement('div');\n",
              "          docLink.innerHTML = docLinkHtml;\n",
              "          element.appendChild(docLink);\n",
              "        }\n",
              "      </script>\n",
              "    </div>\n",
              "  </div>\n",
              "  "
            ]
          },
          "metadata": {},
          "execution_count": 11
        }
      ]
    },
    {
      "cell_type": "markdown",
      "source": [
        "I will try an algorithm from kydavra library."
      ],
      "metadata": {
        "id": "XcJyHbnh7t2b"
      }
    },
    {
      "cell_type": "code",
      "source": [
        "pearson = PearsonCorrelationSelector(min_corr=0.01, max_corr=0.9)"
      ],
      "metadata": {
        "id": "lUNzApOH7NSj"
      },
      "execution_count": 12,
      "outputs": []
    },
    {
      "cell_type": "code",
      "source": [
        "selected_columns2 = pearson.select(df, 'Volume Sold (Liters)')"
      ],
      "metadata": {
        "id": "8ME6IfRaU7T2"
      },
      "execution_count": 13,
      "outputs": []
    },
    {
      "cell_type": "code",
      "source": [
        "selected_columns2"
      ],
      "metadata": {
        "id": "GEh5Q4017dnv",
        "colab": {
          "base_uri": "https://localhost:8080/"
        },
        "outputId": "8a82669b-e245-44fa-871a-71b5801bb349"
      },
      "execution_count": 14,
      "outputs": [
        {
          "output_type": "execute_result",
          "data": {
            "text/plain": [
              "['Store Number',\n",
              " 'Zip Code',\n",
              " 'Item Number',\n",
              " 'Pack',\n",
              " 'Bottle Volume',\n",
              " 'Sale (Dollars)',\n",
              " 'Profit Margin']"
            ]
          },
          "metadata": {},
          "execution_count": 14
        }
      ]
    },
    {
      "cell_type": "markdown",
      "source": [
        "After analysis, I will choose to work with the columns selected by the algorithm ---"
      ],
      "metadata": {
        "id": "4Pj_d92J8KDY"
      }
    },
    {
      "cell_type": "code",
      "source": [
        "df_s = df[selected_columns2].copy()"
      ],
      "metadata": {
        "id": "A09phy_X7Xee"
      },
      "execution_count": 15,
      "outputs": []
    },
    {
      "cell_type": "code",
      "source": [
        "df_target = df['Volume Sold (Liters)']"
      ],
      "metadata": {
        "id": "1HSA7FWOmqH3"
      },
      "execution_count": 16,
      "outputs": []
    },
    {
      "cell_type": "code",
      "source": [
        "df_final = pd.concat([df_s, df_target], axis=1)"
      ],
      "metadata": {
        "id": "OFwBimMemkeu"
      },
      "execution_count": 17,
      "outputs": []
    },
    {
      "cell_type": "code",
      "source": [
        "df_final.to_csv(\"data4.csv\")"
      ],
      "metadata": {
        "id": "u9hL_XxPnjJN"
      },
      "execution_count": 18,
      "outputs": []
    },
    {
      "cell_type": "markdown",
      "source": [
        "-----------------------------"
      ],
      "metadata": {
        "id": "jegfE2qToihp"
      }
    }
  ]
}