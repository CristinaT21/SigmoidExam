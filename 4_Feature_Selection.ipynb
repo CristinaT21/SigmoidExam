{
  "nbformat": 4,
  "nbformat_minor": 0,
  "metadata": {
    "colab": {
      "provenance": []
    },
    "kernelspec": {
      "name": "python3",
      "display_name": "Python 3"
    },
    "language_info": {
      "name": "python"
    }
  },
  "cells": [
    {
      "cell_type": "markdown",
      "source": [
        "# Feature Selection"
      ],
      "metadata": {
        "id": "Ucl0eLFl46QW"
      }
    },
    {
      "cell_type": "markdown",
      "source": [
        "## importing libraries"
      ],
      "metadata": {
        "id": "mpNoHhb55Ach"
      }
    },
    {
      "cell_type": "code",
      "source": [
        "# pip install kydavra"
      ],
      "metadata": {
        "colab": {
          "base_uri": "https://localhost:8080/"
        },
        "id": "Thp8rIAYPx5P",
        "outputId": "3f7d16cc-16fd-4ce7-c0b3-023e79b0c7d1"
      },
      "execution_count": 1,
      "outputs": [
        {
          "output_type": "stream",
          "name": "stdout",
          "text": [
            "Looking in indexes: https://pypi.org/simple, https://us-python.pkg.dev/colab-wheels/public/simple/\n",
            "Collecting kydavra\n",
            "  Downloading kydavra-0.3.1-py3-none-any.whl (51 kB)\n",
            "\u001b[2K     \u001b[90m━━━━━━━━━━━━━━━━━━━━━━━━━━━━━━━━━━━━━━━\u001b[0m \u001b[32m51.6/51.6 KB\u001b[0m \u001b[31m316.0 kB/s\u001b[0m eta \u001b[36m0:00:00\u001b[0m\n",
            "\u001b[?25hRequirement already satisfied: numpy in /usr/local/lib/python3.8/dist-packages (from kydavra) (1.21.6)\n",
            "Requirement already satisfied: matplotlib in /usr/local/lib/python3.8/dist-packages (from kydavra) (3.2.2)\n",
            "Requirement already satisfied: seaborn in /usr/local/lib/python3.8/dist-packages (from kydavra) (0.11.2)\n",
            "Requirement already satisfied: scikit-learn in /usr/local/lib/python3.8/dist-packages (from kydavra) (1.0.2)\n",
            "Requirement already satisfied: pandas in /usr/local/lib/python3.8/dist-packages (from kydavra) (1.3.5)\n",
            "Collecting phik\n",
            "  Downloading phik-0.12.3-cp38-cp38-manylinux_2_17_x86_64.manylinux2014_x86_64.whl (679 kB)\n",
            "\u001b[2K     \u001b[90m━━━━━━━━━━━━━━━━━━━━━━━━━━━━━━━━━━━━━━\u001b[0m \u001b[32m679.5/679.5 KB\u001b[0m \u001b[31m11.8 MB/s\u001b[0m eta \u001b[36m0:00:00\u001b[0m\n",
            "\u001b[?25hRequirement already satisfied: statsmodels in /usr/local/lib/python3.8/dist-packages (from kydavra) (0.12.2)\n",
            "Requirement already satisfied: python-dateutil>=2.1 in /usr/local/lib/python3.8/dist-packages (from matplotlib->kydavra) (2.8.2)\n",
            "Requirement already satisfied: kiwisolver>=1.0.1 in /usr/local/lib/python3.8/dist-packages (from matplotlib->kydavra) (1.4.4)\n",
            "Requirement already satisfied: pyparsing!=2.0.4,!=2.1.2,!=2.1.6,>=2.0.1 in /usr/local/lib/python3.8/dist-packages (from matplotlib->kydavra) (3.0.9)\n",
            "Requirement already satisfied: cycler>=0.10 in /usr/local/lib/python3.8/dist-packages (from matplotlib->kydavra) (0.11.0)\n",
            "Requirement already satisfied: pytz>=2017.3 in /usr/local/lib/python3.8/dist-packages (from pandas->kydavra) (2022.7)\n",
            "Requirement already satisfied: joblib>=0.14.1 in /usr/local/lib/python3.8/dist-packages (from phik->kydavra) (1.2.0)\n",
            "Requirement already satisfied: scipy>=1.5.2 in /usr/local/lib/python3.8/dist-packages (from phik->kydavra) (1.7.3)\n",
            "Requirement already satisfied: threadpoolctl>=2.0.0 in /usr/local/lib/python3.8/dist-packages (from scikit-learn->kydavra) (3.1.0)\n",
            "Requirement already satisfied: patsy>=0.5 in /usr/local/lib/python3.8/dist-packages (from statsmodels->kydavra) (0.5.3)\n",
            "Requirement already satisfied: six in /usr/local/lib/python3.8/dist-packages (from patsy>=0.5->statsmodels->kydavra) (1.15.0)\n",
            "Installing collected packages: phik, kydavra\n",
            "Successfully installed kydavra-0.3.1 phik-0.12.3\n"
          ]
        }
      ]
    },
    {
      "cell_type": "code",
      "source": [
        "import numpy as np\n",
        "import pandas as pd\n",
        "import matplotlib.pyplot as plt\n",
        "import seaborn as sns\n",
        "from kydavra import LassoSelector\n",
        "from kydavra import PointBiserialCorrSelector\n",
        "from kydavra import PearsonCorrelationSelector"
      ],
      "metadata": {
        "id": "ZUey5_v35NW_"
      },
      "execution_count": 19,
      "outputs": []
    },
    {
      "cell_type": "code",
      "source": [
        "from google.colab import drive\n",
        "drive.mount('/content/drive')"
      ],
      "metadata": {
        "id": "SMAv5Sr75KwU",
        "colab": {
          "base_uri": "https://localhost:8080/"
        },
        "outputId": "b4c0e92d-3e57-4068-e492-fe0f2fa63c71"
      },
      "execution_count": 20,
      "outputs": [
        {
          "output_type": "stream",
          "name": "stdout",
          "text": [
            "Drive already mounted at /content/drive; to attempt to forcibly remount, call drive.mount(\"/content/drive\", force_remount=True).\n"
          ]
        }
      ]
    },
    {
      "cell_type": "code",
      "execution_count": 21,
      "metadata": {
        "id": "7HF2OmoY3U9f"
      },
      "outputs": [],
      "source": [
        "import os\n",
        "os.chdir(\"/content/drive/MyDrive/Colab Notebooks\")"
      ]
    },
    {
      "cell_type": "markdown",
      "source": [
        "## importing dataset"
      ],
      "metadata": {
        "id": "C90cF88S5ZAc"
      }
    },
    {
      "cell_type": "code",
      "source": [
        "df = pd.read_csv('data3.csv')"
      ],
      "metadata": {
        "id": "RF23633k5buv"
      },
      "execution_count": 22,
      "outputs": []
    },
    {
      "cell_type": "code",
      "source": [
        "df.shape"
      ],
      "metadata": {
        "id": "COlNz7ED6Npp",
        "colab": {
          "base_uri": "https://localhost:8080/"
        },
        "outputId": "a0a03eaf-6a76-4024-abd5-5bb19a6172bb"
      },
      "execution_count": 23,
      "outputs": [
        {
          "output_type": "execute_result",
          "data": {
            "text/plain": [
              "(10022903, 12)"
            ]
          },
          "metadata": {},
          "execution_count": 23
        }
      ]
    },
    {
      "cell_type": "code",
      "source": [
        "df"
      ],
      "metadata": {
        "colab": {
          "base_uri": "https://localhost:8080/",
          "height": 423
        },
        "id": "dA0u9eSWQ469",
        "outputId": "331a5218-ec9e-4d0c-f5d3-c597a7e11810"
      },
      "execution_count": 24,
      "outputs": [
        {
          "output_type": "execute_result",
          "data": {
            "text/plain": [
              "          Unnamed: 0  Store Number  Zip Code  County Number   Category  \\\n",
              "0                  0     -1.596053  2.022190       0.108315  12.022508   \n",
              "1                  1     -1.576230  1.996349       0.598453  12.022018   \n",
              "2                  2      0.098772  2.022062       0.108315  12.023160   \n",
              "3                  3     -1.155038 -0.415376      -0.017473   2.276590   \n",
              "4                  4      0.525203  2.014722       0.935604   8.781287   \n",
              "...              ...           ...       ...            ...        ...   \n",
              "10022898    10022898      0.269645 -0.411784       0.625403   0.764543   \n",
              "10022899    10022899      0.269645 -0.411784       0.625403   0.764543   \n",
              "10022900    10022900      0.269645 -0.411784       0.625403   0.764543   \n",
              "10022901    10022901      0.269645 -0.411784       0.625403   0.762496   \n",
              "10022902    10022902      0.269645 -0.411784       0.625403   0.760449   \n",
              "\n",
              "          Vendor Number  Item Number      Pack  Bottle Volume  Sale (Dollars)  \\\n",
              "0              0.151527    -2.604004 -1.066954      -0.280075        0.561837   \n",
              "1              0.151527    -2.604004 -1.066954      -0.280075        1.420251   \n",
              "2             -0.762788    -2.624480  1.255013      -2.251074       -0.798948   \n",
              "3             -1.431361    -2.629901 -1.890562       1.600853        0.543814   \n",
              "4             -0.762788    -2.624480  1.255013      -2.251074       -0.798948   \n",
              "...                 ...          ...       ...            ...             ...   \n",
              "10022898       1.125298     0.848505  0.097805      -0.280075       -0.958869   \n",
              "10022899       0.591407     1.147973  0.097805       0.271520       -0.975617   \n",
              "10022900       0.182718     0.833985  0.097805      -0.280075       -1.003458   \n",
              "10022901      -1.431361     0.813749  0.097805       0.271520       -0.934317   \n",
              "10022902       1.125298     1.108279  0.097805      -0.280075       -1.076912   \n",
              "\n",
              "          Profit Margin  Volume Sold (Liters)  \n",
              "0              0.581077                  4.50  \n",
              "1              1.436338                  9.00  \n",
              "2             -0.774840                  0.30  \n",
              "3              0.563319                  5.25  \n",
              "4             -0.774840                  0.30  \n",
              "...                 ...                   ...  \n",
              "10022898      -0.933906                  0.75  \n",
              "10022899      -0.560307                  3.00  \n",
              "10022900      -0.978561                  0.75  \n",
              "10022901      -0.077093                  6.00  \n",
              "10022902      -1.051429                  0.75  \n",
              "\n",
              "[10022903 rows x 12 columns]"
            ],
            "text/html": [
              "\n",
              "  <div id=\"df-17e5f706-d22d-4e20-bc85-d7aff35e786c\">\n",
              "    <div class=\"colab-df-container\">\n",
              "      <div>\n",
              "<style scoped>\n",
              "    .dataframe tbody tr th:only-of-type {\n",
              "        vertical-align: middle;\n",
              "    }\n",
              "\n",
              "    .dataframe tbody tr th {\n",
              "        vertical-align: top;\n",
              "    }\n",
              "\n",
              "    .dataframe thead th {\n",
              "        text-align: right;\n",
              "    }\n",
              "</style>\n",
              "<table border=\"1\" class=\"dataframe\">\n",
              "  <thead>\n",
              "    <tr style=\"text-align: right;\">\n",
              "      <th></th>\n",
              "      <th>Unnamed: 0</th>\n",
              "      <th>Store Number</th>\n",
              "      <th>Zip Code</th>\n",
              "      <th>County Number</th>\n",
              "      <th>Category</th>\n",
              "      <th>Vendor Number</th>\n",
              "      <th>Item Number</th>\n",
              "      <th>Pack</th>\n",
              "      <th>Bottle Volume</th>\n",
              "      <th>Sale (Dollars)</th>\n",
              "      <th>Profit Margin</th>\n",
              "      <th>Volume Sold (Liters)</th>\n",
              "    </tr>\n",
              "  </thead>\n",
              "  <tbody>\n",
              "    <tr>\n",
              "      <th>0</th>\n",
              "      <td>0</td>\n",
              "      <td>-1.596053</td>\n",
              "      <td>2.022190</td>\n",
              "      <td>0.108315</td>\n",
              "      <td>12.022508</td>\n",
              "      <td>0.151527</td>\n",
              "      <td>-2.604004</td>\n",
              "      <td>-1.066954</td>\n",
              "      <td>-0.280075</td>\n",
              "      <td>0.561837</td>\n",
              "      <td>0.581077</td>\n",
              "      <td>4.50</td>\n",
              "    </tr>\n",
              "    <tr>\n",
              "      <th>1</th>\n",
              "      <td>1</td>\n",
              "      <td>-1.576230</td>\n",
              "      <td>1.996349</td>\n",
              "      <td>0.598453</td>\n",
              "      <td>12.022018</td>\n",
              "      <td>0.151527</td>\n",
              "      <td>-2.604004</td>\n",
              "      <td>-1.066954</td>\n",
              "      <td>-0.280075</td>\n",
              "      <td>1.420251</td>\n",
              "      <td>1.436338</td>\n",
              "      <td>9.00</td>\n",
              "    </tr>\n",
              "    <tr>\n",
              "      <th>2</th>\n",
              "      <td>2</td>\n",
              "      <td>0.098772</td>\n",
              "      <td>2.022062</td>\n",
              "      <td>0.108315</td>\n",
              "      <td>12.023160</td>\n",
              "      <td>-0.762788</td>\n",
              "      <td>-2.624480</td>\n",
              "      <td>1.255013</td>\n",
              "      <td>-2.251074</td>\n",
              "      <td>-0.798948</td>\n",
              "      <td>-0.774840</td>\n",
              "      <td>0.30</td>\n",
              "    </tr>\n",
              "    <tr>\n",
              "      <th>3</th>\n",
              "      <td>3</td>\n",
              "      <td>-1.155038</td>\n",
              "      <td>-0.415376</td>\n",
              "      <td>-0.017473</td>\n",
              "      <td>2.276590</td>\n",
              "      <td>-1.431361</td>\n",
              "      <td>-2.629901</td>\n",
              "      <td>-1.890562</td>\n",
              "      <td>1.600853</td>\n",
              "      <td>0.543814</td>\n",
              "      <td>0.563319</td>\n",
              "      <td>5.25</td>\n",
              "    </tr>\n",
              "    <tr>\n",
              "      <th>4</th>\n",
              "      <td>4</td>\n",
              "      <td>0.525203</td>\n",
              "      <td>2.014722</td>\n",
              "      <td>0.935604</td>\n",
              "      <td>8.781287</td>\n",
              "      <td>-0.762788</td>\n",
              "      <td>-2.624480</td>\n",
              "      <td>1.255013</td>\n",
              "      <td>-2.251074</td>\n",
              "      <td>-0.798948</td>\n",
              "      <td>-0.774840</td>\n",
              "      <td>0.30</td>\n",
              "    </tr>\n",
              "    <tr>\n",
              "      <th>...</th>\n",
              "      <td>...</td>\n",
              "      <td>...</td>\n",
              "      <td>...</td>\n",
              "      <td>...</td>\n",
              "      <td>...</td>\n",
              "      <td>...</td>\n",
              "      <td>...</td>\n",
              "      <td>...</td>\n",
              "      <td>...</td>\n",
              "      <td>...</td>\n",
              "      <td>...</td>\n",
              "      <td>...</td>\n",
              "    </tr>\n",
              "    <tr>\n",
              "      <th>10022898</th>\n",
              "      <td>10022898</td>\n",
              "      <td>0.269645</td>\n",
              "      <td>-0.411784</td>\n",
              "      <td>0.625403</td>\n",
              "      <td>0.764543</td>\n",
              "      <td>1.125298</td>\n",
              "      <td>0.848505</td>\n",
              "      <td>0.097805</td>\n",
              "      <td>-0.280075</td>\n",
              "      <td>-0.958869</td>\n",
              "      <td>-0.933906</td>\n",
              "      <td>0.75</td>\n",
              "    </tr>\n",
              "    <tr>\n",
              "      <th>10022899</th>\n",
              "      <td>10022899</td>\n",
              "      <td>0.269645</td>\n",
              "      <td>-0.411784</td>\n",
              "      <td>0.625403</td>\n",
              "      <td>0.764543</td>\n",
              "      <td>0.591407</td>\n",
              "      <td>1.147973</td>\n",
              "      <td>0.097805</td>\n",
              "      <td>0.271520</td>\n",
              "      <td>-0.975617</td>\n",
              "      <td>-0.560307</td>\n",
              "      <td>3.00</td>\n",
              "    </tr>\n",
              "    <tr>\n",
              "      <th>10022900</th>\n",
              "      <td>10022900</td>\n",
              "      <td>0.269645</td>\n",
              "      <td>-0.411784</td>\n",
              "      <td>0.625403</td>\n",
              "      <td>0.764543</td>\n",
              "      <td>0.182718</td>\n",
              "      <td>0.833985</td>\n",
              "      <td>0.097805</td>\n",
              "      <td>-0.280075</td>\n",
              "      <td>-1.003458</td>\n",
              "      <td>-0.978561</td>\n",
              "      <td>0.75</td>\n",
              "    </tr>\n",
              "    <tr>\n",
              "      <th>10022901</th>\n",
              "      <td>10022901</td>\n",
              "      <td>0.269645</td>\n",
              "      <td>-0.411784</td>\n",
              "      <td>0.625403</td>\n",
              "      <td>0.762496</td>\n",
              "      <td>-1.431361</td>\n",
              "      <td>0.813749</td>\n",
              "      <td>0.097805</td>\n",
              "      <td>0.271520</td>\n",
              "      <td>-0.934317</td>\n",
              "      <td>-0.077093</td>\n",
              "      <td>6.00</td>\n",
              "    </tr>\n",
              "    <tr>\n",
              "      <th>10022902</th>\n",
              "      <td>10022902</td>\n",
              "      <td>0.269645</td>\n",
              "      <td>-0.411784</td>\n",
              "      <td>0.625403</td>\n",
              "      <td>0.760449</td>\n",
              "      <td>1.125298</td>\n",
              "      <td>1.108279</td>\n",
              "      <td>0.097805</td>\n",
              "      <td>-0.280075</td>\n",
              "      <td>-1.076912</td>\n",
              "      <td>-1.051429</td>\n",
              "      <td>0.75</td>\n",
              "    </tr>\n",
              "  </tbody>\n",
              "</table>\n",
              "<p>10022903 rows × 12 columns</p>\n",
              "</div>\n",
              "      <button class=\"colab-df-convert\" onclick=\"convertToInteractive('df-17e5f706-d22d-4e20-bc85-d7aff35e786c')\"\n",
              "              title=\"Convert this dataframe to an interactive table.\"\n",
              "              style=\"display:none;\">\n",
              "        \n",
              "  <svg xmlns=\"http://www.w3.org/2000/svg\" height=\"24px\"viewBox=\"0 0 24 24\"\n",
              "       width=\"24px\">\n",
              "    <path d=\"M0 0h24v24H0V0z\" fill=\"none\"/>\n",
              "    <path d=\"M18.56 5.44l.94 2.06.94-2.06 2.06-.94-2.06-.94-.94-2.06-.94 2.06-2.06.94zm-11 1L8.5 8.5l.94-2.06 2.06-.94-2.06-.94L8.5 2.5l-.94 2.06-2.06.94zm10 10l.94 2.06.94-2.06 2.06-.94-2.06-.94-.94-2.06-.94 2.06-2.06.94z\"/><path d=\"M17.41 7.96l-1.37-1.37c-.4-.4-.92-.59-1.43-.59-.52 0-1.04.2-1.43.59L10.3 9.45l-7.72 7.72c-.78.78-.78 2.05 0 2.83L4 21.41c.39.39.9.59 1.41.59.51 0 1.02-.2 1.41-.59l7.78-7.78 2.81-2.81c.8-.78.8-2.07 0-2.86zM5.41 20L4 18.59l7.72-7.72 1.47 1.35L5.41 20z\"/>\n",
              "  </svg>\n",
              "      </button>\n",
              "      \n",
              "  <style>\n",
              "    .colab-df-container {\n",
              "      display:flex;\n",
              "      flex-wrap:wrap;\n",
              "      gap: 12px;\n",
              "    }\n",
              "\n",
              "    .colab-df-convert {\n",
              "      background-color: #E8F0FE;\n",
              "      border: none;\n",
              "      border-radius: 50%;\n",
              "      cursor: pointer;\n",
              "      display: none;\n",
              "      fill: #1967D2;\n",
              "      height: 32px;\n",
              "      padding: 0 0 0 0;\n",
              "      width: 32px;\n",
              "    }\n",
              "\n",
              "    .colab-df-convert:hover {\n",
              "      background-color: #E2EBFA;\n",
              "      box-shadow: 0px 1px 2px rgba(60, 64, 67, 0.3), 0px 1px 3px 1px rgba(60, 64, 67, 0.15);\n",
              "      fill: #174EA6;\n",
              "    }\n",
              "\n",
              "    [theme=dark] .colab-df-convert {\n",
              "      background-color: #3B4455;\n",
              "      fill: #D2E3FC;\n",
              "    }\n",
              "\n",
              "    [theme=dark] .colab-df-convert:hover {\n",
              "      background-color: #434B5C;\n",
              "      box-shadow: 0px 1px 3px 1px rgba(0, 0, 0, 0.15);\n",
              "      filter: drop-shadow(0px 1px 2px rgba(0, 0, 0, 0.3));\n",
              "      fill: #FFFFFF;\n",
              "    }\n",
              "  </style>\n",
              "\n",
              "      <script>\n",
              "        const buttonEl =\n",
              "          document.querySelector('#df-17e5f706-d22d-4e20-bc85-d7aff35e786c button.colab-df-convert');\n",
              "        buttonEl.style.display =\n",
              "          google.colab.kernel.accessAllowed ? 'block' : 'none';\n",
              "\n",
              "        async function convertToInteractive(key) {\n",
              "          const element = document.querySelector('#df-17e5f706-d22d-4e20-bc85-d7aff35e786c');\n",
              "          const dataTable =\n",
              "            await google.colab.kernel.invokeFunction('convertToInteractive',\n",
              "                                                     [key], {});\n",
              "          if (!dataTable) return;\n",
              "\n",
              "          const docLinkHtml = 'Like what you see? Visit the ' +\n",
              "            '<a target=\"_blank\" href=https://colab.research.google.com/notebooks/data_table.ipynb>data table notebook</a>'\n",
              "            + ' to learn more about interactive tables.';\n",
              "          element.innerHTML = '';\n",
              "          dataTable['output_type'] = 'display_data';\n",
              "          await google.colab.output.renderOutput(dataTable, element);\n",
              "          const docLink = document.createElement('div');\n",
              "          docLink.innerHTML = docLinkHtml;\n",
              "          element.appendChild(docLink);\n",
              "        }\n",
              "      </script>\n",
              "    </div>\n",
              "  </div>\n",
              "  "
            ]
          },
          "metadata": {},
          "execution_count": 24
        }
      ]
    },
    {
      "cell_type": "code",
      "source": [
        "df = df.drop(['Unnamed: 0'], axis=1)"
      ],
      "metadata": {
        "id": "UA_jE2XYTmVi"
      },
      "execution_count": 25,
      "outputs": []
    },
    {
      "cell_type": "code",
      "source": [
        "df = df.reset_index(drop=True, inplace=False)"
      ],
      "metadata": {
        "id": "Mj-kdqgISizT"
      },
      "execution_count": 26,
      "outputs": []
    },
    {
      "cell_type": "code",
      "source": [
        "df"
      ],
      "metadata": {
        "colab": {
          "base_uri": "https://localhost:8080/",
          "height": 423
        },
        "id": "luIxmmIGSUMo",
        "outputId": "4400992b-71c3-485f-cc81-e8399c0080eb"
      },
      "execution_count": 27,
      "outputs": [
        {
          "output_type": "execute_result",
          "data": {
            "text/plain": [
              "          Store Number  Zip Code  County Number   Category  Vendor Number  \\\n",
              "0            -1.596053  2.022190       0.108315  12.022508       0.151527   \n",
              "1            -1.576230  1.996349       0.598453  12.022018       0.151527   \n",
              "2             0.098772  2.022062       0.108315  12.023160      -0.762788   \n",
              "3            -1.155038 -0.415376      -0.017473   2.276590      -1.431361   \n",
              "4             0.525203  2.014722       0.935604   8.781287      -0.762788   \n",
              "...                ...       ...            ...        ...            ...   \n",
              "10022898      0.269645 -0.411784       0.625403   0.764543       1.125298   \n",
              "10022899      0.269645 -0.411784       0.625403   0.764543       0.591407   \n",
              "10022900      0.269645 -0.411784       0.625403   0.764543       0.182718   \n",
              "10022901      0.269645 -0.411784       0.625403   0.762496      -1.431361   \n",
              "10022902      0.269645 -0.411784       0.625403   0.760449       1.125298   \n",
              "\n",
              "          Item Number      Pack  Bottle Volume  Sale (Dollars)  Profit Margin  \\\n",
              "0           -2.604004 -1.066954      -0.280075        0.561837       0.581077   \n",
              "1           -2.604004 -1.066954      -0.280075        1.420251       1.436338   \n",
              "2           -2.624480  1.255013      -2.251074       -0.798948      -0.774840   \n",
              "3           -2.629901 -1.890562       1.600853        0.543814       0.563319   \n",
              "4           -2.624480  1.255013      -2.251074       -0.798948      -0.774840   \n",
              "...               ...       ...            ...             ...            ...   \n",
              "10022898     0.848505  0.097805      -0.280075       -0.958869      -0.933906   \n",
              "10022899     1.147973  0.097805       0.271520       -0.975617      -0.560307   \n",
              "10022900     0.833985  0.097805      -0.280075       -1.003458      -0.978561   \n",
              "10022901     0.813749  0.097805       0.271520       -0.934317      -0.077093   \n",
              "10022902     1.108279  0.097805      -0.280075       -1.076912      -1.051429   \n",
              "\n",
              "          Volume Sold (Liters)  \n",
              "0                         4.50  \n",
              "1                         9.00  \n",
              "2                         0.30  \n",
              "3                         5.25  \n",
              "4                         0.30  \n",
              "...                        ...  \n",
              "10022898                  0.75  \n",
              "10022899                  3.00  \n",
              "10022900                  0.75  \n",
              "10022901                  6.00  \n",
              "10022902                  0.75  \n",
              "\n",
              "[10022903 rows x 11 columns]"
            ],
            "text/html": [
              "\n",
              "  <div id=\"df-5582c00c-b11f-410d-8554-05bd24eb53d2\">\n",
              "    <div class=\"colab-df-container\">\n",
              "      <div>\n",
              "<style scoped>\n",
              "    .dataframe tbody tr th:only-of-type {\n",
              "        vertical-align: middle;\n",
              "    }\n",
              "\n",
              "    .dataframe tbody tr th {\n",
              "        vertical-align: top;\n",
              "    }\n",
              "\n",
              "    .dataframe thead th {\n",
              "        text-align: right;\n",
              "    }\n",
              "</style>\n",
              "<table border=\"1\" class=\"dataframe\">\n",
              "  <thead>\n",
              "    <tr style=\"text-align: right;\">\n",
              "      <th></th>\n",
              "      <th>Store Number</th>\n",
              "      <th>Zip Code</th>\n",
              "      <th>County Number</th>\n",
              "      <th>Category</th>\n",
              "      <th>Vendor Number</th>\n",
              "      <th>Item Number</th>\n",
              "      <th>Pack</th>\n",
              "      <th>Bottle Volume</th>\n",
              "      <th>Sale (Dollars)</th>\n",
              "      <th>Profit Margin</th>\n",
              "      <th>Volume Sold (Liters)</th>\n",
              "    </tr>\n",
              "  </thead>\n",
              "  <tbody>\n",
              "    <tr>\n",
              "      <th>0</th>\n",
              "      <td>-1.596053</td>\n",
              "      <td>2.022190</td>\n",
              "      <td>0.108315</td>\n",
              "      <td>12.022508</td>\n",
              "      <td>0.151527</td>\n",
              "      <td>-2.604004</td>\n",
              "      <td>-1.066954</td>\n",
              "      <td>-0.280075</td>\n",
              "      <td>0.561837</td>\n",
              "      <td>0.581077</td>\n",
              "      <td>4.50</td>\n",
              "    </tr>\n",
              "    <tr>\n",
              "      <th>1</th>\n",
              "      <td>-1.576230</td>\n",
              "      <td>1.996349</td>\n",
              "      <td>0.598453</td>\n",
              "      <td>12.022018</td>\n",
              "      <td>0.151527</td>\n",
              "      <td>-2.604004</td>\n",
              "      <td>-1.066954</td>\n",
              "      <td>-0.280075</td>\n",
              "      <td>1.420251</td>\n",
              "      <td>1.436338</td>\n",
              "      <td>9.00</td>\n",
              "    </tr>\n",
              "    <tr>\n",
              "      <th>2</th>\n",
              "      <td>0.098772</td>\n",
              "      <td>2.022062</td>\n",
              "      <td>0.108315</td>\n",
              "      <td>12.023160</td>\n",
              "      <td>-0.762788</td>\n",
              "      <td>-2.624480</td>\n",
              "      <td>1.255013</td>\n",
              "      <td>-2.251074</td>\n",
              "      <td>-0.798948</td>\n",
              "      <td>-0.774840</td>\n",
              "      <td>0.30</td>\n",
              "    </tr>\n",
              "    <tr>\n",
              "      <th>3</th>\n",
              "      <td>-1.155038</td>\n",
              "      <td>-0.415376</td>\n",
              "      <td>-0.017473</td>\n",
              "      <td>2.276590</td>\n",
              "      <td>-1.431361</td>\n",
              "      <td>-2.629901</td>\n",
              "      <td>-1.890562</td>\n",
              "      <td>1.600853</td>\n",
              "      <td>0.543814</td>\n",
              "      <td>0.563319</td>\n",
              "      <td>5.25</td>\n",
              "    </tr>\n",
              "    <tr>\n",
              "      <th>4</th>\n",
              "      <td>0.525203</td>\n",
              "      <td>2.014722</td>\n",
              "      <td>0.935604</td>\n",
              "      <td>8.781287</td>\n",
              "      <td>-0.762788</td>\n",
              "      <td>-2.624480</td>\n",
              "      <td>1.255013</td>\n",
              "      <td>-2.251074</td>\n",
              "      <td>-0.798948</td>\n",
              "      <td>-0.774840</td>\n",
              "      <td>0.30</td>\n",
              "    </tr>\n",
              "    <tr>\n",
              "      <th>...</th>\n",
              "      <td>...</td>\n",
              "      <td>...</td>\n",
              "      <td>...</td>\n",
              "      <td>...</td>\n",
              "      <td>...</td>\n",
              "      <td>...</td>\n",
              "      <td>...</td>\n",
              "      <td>...</td>\n",
              "      <td>...</td>\n",
              "      <td>...</td>\n",
              "      <td>...</td>\n",
              "    </tr>\n",
              "    <tr>\n",
              "      <th>10022898</th>\n",
              "      <td>0.269645</td>\n",
              "      <td>-0.411784</td>\n",
              "      <td>0.625403</td>\n",
              "      <td>0.764543</td>\n",
              "      <td>1.125298</td>\n",
              "      <td>0.848505</td>\n",
              "      <td>0.097805</td>\n",
              "      <td>-0.280075</td>\n",
              "      <td>-0.958869</td>\n",
              "      <td>-0.933906</td>\n",
              "      <td>0.75</td>\n",
              "    </tr>\n",
              "    <tr>\n",
              "      <th>10022899</th>\n",
              "      <td>0.269645</td>\n",
              "      <td>-0.411784</td>\n",
              "      <td>0.625403</td>\n",
              "      <td>0.764543</td>\n",
              "      <td>0.591407</td>\n",
              "      <td>1.147973</td>\n",
              "      <td>0.097805</td>\n",
              "      <td>0.271520</td>\n",
              "      <td>-0.975617</td>\n",
              "      <td>-0.560307</td>\n",
              "      <td>3.00</td>\n",
              "    </tr>\n",
              "    <tr>\n",
              "      <th>10022900</th>\n",
              "      <td>0.269645</td>\n",
              "      <td>-0.411784</td>\n",
              "      <td>0.625403</td>\n",
              "      <td>0.764543</td>\n",
              "      <td>0.182718</td>\n",
              "      <td>0.833985</td>\n",
              "      <td>0.097805</td>\n",
              "      <td>-0.280075</td>\n",
              "      <td>-1.003458</td>\n",
              "      <td>-0.978561</td>\n",
              "      <td>0.75</td>\n",
              "    </tr>\n",
              "    <tr>\n",
              "      <th>10022901</th>\n",
              "      <td>0.269645</td>\n",
              "      <td>-0.411784</td>\n",
              "      <td>0.625403</td>\n",
              "      <td>0.762496</td>\n",
              "      <td>-1.431361</td>\n",
              "      <td>0.813749</td>\n",
              "      <td>0.097805</td>\n",
              "      <td>0.271520</td>\n",
              "      <td>-0.934317</td>\n",
              "      <td>-0.077093</td>\n",
              "      <td>6.00</td>\n",
              "    </tr>\n",
              "    <tr>\n",
              "      <th>10022902</th>\n",
              "      <td>0.269645</td>\n",
              "      <td>-0.411784</td>\n",
              "      <td>0.625403</td>\n",
              "      <td>0.760449</td>\n",
              "      <td>1.125298</td>\n",
              "      <td>1.108279</td>\n",
              "      <td>0.097805</td>\n",
              "      <td>-0.280075</td>\n",
              "      <td>-1.076912</td>\n",
              "      <td>-1.051429</td>\n",
              "      <td>0.75</td>\n",
              "    </tr>\n",
              "  </tbody>\n",
              "</table>\n",
              "<p>10022903 rows × 11 columns</p>\n",
              "</div>\n",
              "      <button class=\"colab-df-convert\" onclick=\"convertToInteractive('df-5582c00c-b11f-410d-8554-05bd24eb53d2')\"\n",
              "              title=\"Convert this dataframe to an interactive table.\"\n",
              "              style=\"display:none;\">\n",
              "        \n",
              "  <svg xmlns=\"http://www.w3.org/2000/svg\" height=\"24px\"viewBox=\"0 0 24 24\"\n",
              "       width=\"24px\">\n",
              "    <path d=\"M0 0h24v24H0V0z\" fill=\"none\"/>\n",
              "    <path d=\"M18.56 5.44l.94 2.06.94-2.06 2.06-.94-2.06-.94-.94-2.06-.94 2.06-2.06.94zm-11 1L8.5 8.5l.94-2.06 2.06-.94-2.06-.94L8.5 2.5l-.94 2.06-2.06.94zm10 10l.94 2.06.94-2.06 2.06-.94-2.06-.94-.94-2.06-.94 2.06-2.06.94z\"/><path d=\"M17.41 7.96l-1.37-1.37c-.4-.4-.92-.59-1.43-.59-.52 0-1.04.2-1.43.59L10.3 9.45l-7.72 7.72c-.78.78-.78 2.05 0 2.83L4 21.41c.39.39.9.59 1.41.59.51 0 1.02-.2 1.41-.59l7.78-7.78 2.81-2.81c.8-.78.8-2.07 0-2.86zM5.41 20L4 18.59l7.72-7.72 1.47 1.35L5.41 20z\"/>\n",
              "  </svg>\n",
              "      </button>\n",
              "      \n",
              "  <style>\n",
              "    .colab-df-container {\n",
              "      display:flex;\n",
              "      flex-wrap:wrap;\n",
              "      gap: 12px;\n",
              "    }\n",
              "\n",
              "    .colab-df-convert {\n",
              "      background-color: #E8F0FE;\n",
              "      border: none;\n",
              "      border-radius: 50%;\n",
              "      cursor: pointer;\n",
              "      display: none;\n",
              "      fill: #1967D2;\n",
              "      height: 32px;\n",
              "      padding: 0 0 0 0;\n",
              "      width: 32px;\n",
              "    }\n",
              "\n",
              "    .colab-df-convert:hover {\n",
              "      background-color: #E2EBFA;\n",
              "      box-shadow: 0px 1px 2px rgba(60, 64, 67, 0.3), 0px 1px 3px 1px rgba(60, 64, 67, 0.15);\n",
              "      fill: #174EA6;\n",
              "    }\n",
              "\n",
              "    [theme=dark] .colab-df-convert {\n",
              "      background-color: #3B4455;\n",
              "      fill: #D2E3FC;\n",
              "    }\n",
              "\n",
              "    [theme=dark] .colab-df-convert:hover {\n",
              "      background-color: #434B5C;\n",
              "      box-shadow: 0px 1px 3px 1px rgba(0, 0, 0, 0.15);\n",
              "      filter: drop-shadow(0px 1px 2px rgba(0, 0, 0, 0.3));\n",
              "      fill: #FFFFFF;\n",
              "    }\n",
              "  </style>\n",
              "\n",
              "      <script>\n",
              "        const buttonEl =\n",
              "          document.querySelector('#df-5582c00c-b11f-410d-8554-05bd24eb53d2 button.colab-df-convert');\n",
              "        buttonEl.style.display =\n",
              "          google.colab.kernel.accessAllowed ? 'block' : 'none';\n",
              "\n",
              "        async function convertToInteractive(key) {\n",
              "          const element = document.querySelector('#df-5582c00c-b11f-410d-8554-05bd24eb53d2');\n",
              "          const dataTable =\n",
              "            await google.colab.kernel.invokeFunction('convertToInteractive',\n",
              "                                                     [key], {});\n",
              "          if (!dataTable) return;\n",
              "\n",
              "          const docLinkHtml = 'Like what you see? Visit the ' +\n",
              "            '<a target=\"_blank\" href=https://colab.research.google.com/notebooks/data_table.ipynb>data table notebook</a>'\n",
              "            + ' to learn more about interactive tables.';\n",
              "          element.innerHTML = '';\n",
              "          dataTable['output_type'] = 'display_data';\n",
              "          await google.colab.output.renderOutput(dataTable, element);\n",
              "          const docLink = document.createElement('div');\n",
              "          docLink.innerHTML = docLinkHtml;\n",
              "          element.appendChild(docLink);\n",
              "        }\n",
              "      </script>\n",
              "    </div>\n",
              "  </div>\n",
              "  "
            ]
          },
          "metadata": {},
          "execution_count": 27
        }
      ]
    },
    {
      "cell_type": "markdown",
      "source": [
        "I will try an algorithm from kydavra library."
      ],
      "metadata": {
        "id": "XcJyHbnh7t2b"
      }
    },
    {
      "cell_type": "code",
      "source": [
        "pearson = PearsonCorrelationSelector(min_corr=0.01, max_corr=0.9)"
      ],
      "metadata": {
        "id": "lUNzApOH7NSj"
      },
      "execution_count": 34,
      "outputs": []
    },
    {
      "cell_type": "code",
      "source": [
        "selected_columns2 = pearson.select(df, 'Volume Sold (Liters)')"
      ],
      "metadata": {
        "id": "8ME6IfRaU7T2"
      },
      "execution_count": 35,
      "outputs": []
    },
    {
      "cell_type": "code",
      "source": [
        "selected_columns2"
      ],
      "metadata": {
        "id": "GEh5Q4017dnv",
        "colab": {
          "base_uri": "https://localhost:8080/"
        },
        "outputId": "33dbf3d0-b5c7-4c4a-c3de-6bde66834b40"
      },
      "execution_count": 36,
      "outputs": [
        {
          "output_type": "execute_result",
          "data": {
            "text/plain": [
              "['Store Number',\n",
              " 'Zip Code',\n",
              " 'Item Number',\n",
              " 'Pack',\n",
              " 'Bottle Volume',\n",
              " 'Sale (Dollars)',\n",
              " 'Profit Margin']"
            ]
          },
          "metadata": {},
          "execution_count": 36
        }
      ]
    },
    {
      "cell_type": "markdown",
      "source": [
        "After analysis, I will choose to work with the columns selected by the algorithm ---"
      ],
      "metadata": {
        "id": "4Pj_d92J8KDY"
      }
    },
    {
      "cell_type": "code",
      "source": [
        "df_s = df[selected_columns2].copy()"
      ],
      "metadata": {
        "id": "A09phy_X7Xee"
      },
      "execution_count": 37,
      "outputs": []
    },
    {
      "cell_type": "code",
      "source": [
        "df_s.to_csv(\"data4.csv\")"
      ],
      "metadata": {
        "id": "bEdZROOM-wp7"
      },
      "execution_count": 38,
      "outputs": []
    },
    {
      "cell_type": "markdown",
      "source": [
        "-----------------------------"
      ],
      "metadata": {
        "id": "jegfE2qToihp"
      }
    }
  ]
}